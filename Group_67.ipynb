{
 "cells": [
  {
   "cell_type": "code",
   "execution_count": 1,
   "id": "c63d570b-8f43-4126-9268-167ab272f675",
   "metadata": {},
   "outputs": [
    {
     "name": "stdout",
     "output_type": "stream",
     "text": [
      "Requirement already satisfied: pandas in /opt/anaconda3/lib/python3.12/site-packages (2.2.3)\n",
      "Requirement already satisfied: sweetviz in /opt/anaconda3/lib/python3.12/site-packages (2.3.1)\n",
      "Requirement already satisfied: scikit-learn in /opt/anaconda3/lib/python3.12/site-packages (1.5.2)\n",
      "Requirement already satisfied: shap in /opt/anaconda3/lib/python3.12/site-packages (0.46.0)\n",
      "Requirement already satisfied: joblib in /opt/anaconda3/lib/python3.12/site-packages (1.4.2)\n",
      "Requirement already satisfied: flask in /opt/anaconda3/lib/python3.12/site-packages (3.0.3)\n",
      "Requirement already satisfied: awsebcli in /opt/anaconda3/lib/python3.12/site-packages (3.21.0)\n",
      "Requirement already satisfied: tpot in /opt/anaconda3/lib/python3.12/site-packages (0.12.2)\n",
      "Requirement already satisfied: numpy>=1.26.0 in /opt/anaconda3/lib/python3.12/site-packages (from pandas) (1.26.4)\n",
      "Requirement already satisfied: python-dateutil>=2.8.2 in /opt/anaconda3/lib/python3.12/site-packages (from pandas) (2.9.0.post0)\n",
      "Requirement already satisfied: pytz>=2020.1 in /opt/anaconda3/lib/python3.12/site-packages (from pandas) (2024.1)\n",
      "Requirement already satisfied: tzdata>=2022.7 in /opt/anaconda3/lib/python3.12/site-packages (from pandas) (2023.3)\n",
      "Requirement already satisfied: matplotlib>=3.1.3 in /opt/anaconda3/lib/python3.12/site-packages (from sweetviz) (3.8.4)\n",
      "Requirement already satisfied: tqdm>=4.43.0 in /opt/anaconda3/lib/python3.12/site-packages (from sweetviz) (4.66.4)\n",
      "Requirement already satisfied: scipy>=1.3.2 in /opt/anaconda3/lib/python3.12/site-packages (from sweetviz) (1.13.1)\n",
      "Requirement already satisfied: jinja2>=2.11.1 in /opt/anaconda3/lib/python3.12/site-packages (from sweetviz) (3.1.4)\n",
      "Requirement already satisfied: importlib-resources>=1.2.0 in /opt/anaconda3/lib/python3.12/site-packages (from sweetviz) (6.4.0)\n",
      "Requirement already satisfied: threadpoolctl>=3.1.0 in /opt/anaconda3/lib/python3.12/site-packages (from scikit-learn) (3.5.0)\n",
      "Requirement already satisfied: packaging>20.9 in /opt/anaconda3/lib/python3.12/site-packages (from shap) (23.2)\n",
      "Requirement already satisfied: slicer==0.0.8 in /opt/anaconda3/lib/python3.12/site-packages (from shap) (0.0.8)\n",
      "Requirement already satisfied: numba in /opt/anaconda3/lib/python3.12/site-packages (from shap) (0.60.0)\n",
      "Requirement already satisfied: cloudpickle in /opt/anaconda3/lib/python3.12/site-packages (from shap) (2.2.1)\n",
      "Requirement already satisfied: Werkzeug>=3.0.0 in /opt/anaconda3/lib/python3.12/site-packages (from flask) (3.0.3)\n",
      "Requirement already satisfied: itsdangerous>=2.1.2 in /opt/anaconda3/lib/python3.12/site-packages (from flask) (2.2.0)\n",
      "Requirement already satisfied: click>=8.1.3 in /opt/anaconda3/lib/python3.12/site-packages (from flask) (8.1.7)\n",
      "Requirement already satisfied: blinker>=1.6.2 in /opt/anaconda3/lib/python3.12/site-packages (from flask) (1.6.2)\n",
      "Requirement already satisfied: botocore<1.36.0,>=1.35.0 in /opt/anaconda3/lib/python3.12/site-packages (from awsebcli) (1.35.24)\n",
      "Requirement already satisfied: cement==2.10.14 in /opt/anaconda3/lib/python3.12/site-packages (from awsebcli) (2.10.14)\n",
      "Requirement already satisfied: colorama<0.5,>=0.4.6 in /opt/anaconda3/lib/python3.12/site-packages (from awsebcli) (0.4.6)\n",
      "Requirement already satisfied: pathspec==0.10.1 in /opt/anaconda3/lib/python3.12/site-packages (from awsebcli) (0.10.1)\n",
      "Requirement already satisfied: requests<3,>=2.31 in /opt/anaconda3/lib/python3.12/site-packages (from awsebcli) (2.32.2)\n",
      "Requirement already satisfied: setuptools>=20.0 in /opt/anaconda3/lib/python3.12/site-packages (from awsebcli) (69.5.1)\n",
      "Requirement already satisfied: semantic-version<2.11,>=2.10.0 in /opt/anaconda3/lib/python3.12/site-packages (from awsebcli) (2.10.0)\n",
      "Requirement already satisfied: termcolor<3,>=2.4.0 in /opt/anaconda3/lib/python3.12/site-packages (from awsebcli) (2.4.0)\n",
      "Requirement already satisfied: wcwidth<0.3,>=0.2.13 in /opt/anaconda3/lib/python3.12/site-packages (from awsebcli) (0.2.13)\n",
      "Requirement already satisfied: PyYAML<6.1,>=5.3.1 in /opt/anaconda3/lib/python3.12/site-packages (from awsebcli) (6.0.1)\n",
      "Requirement already satisfied: urllib3<2,>=1.26.5 in /opt/anaconda3/lib/python3.12/site-packages (from awsebcli) (1.26.20)\n",
      "Requirement already satisfied: blessed>=1.20.0 in /opt/anaconda3/lib/python3.12/site-packages (from awsebcli) (1.20.0)\n",
      "Requirement already satisfied: deap>=1.2 in /opt/anaconda3/lib/python3.12/site-packages (from tpot) (1.4.1)\n",
      "Requirement already satisfied: update-checker>=0.16 in /opt/anaconda3/lib/python3.12/site-packages (from tpot) (0.18.0)\n",
      "Requirement already satisfied: stopit>=1.1.1 in /opt/anaconda3/lib/python3.12/site-packages (from tpot) (1.1.2)\n",
      "Requirement already satisfied: xgboost>=1.1.0 in /opt/anaconda3/lib/python3.12/site-packages (from tpot) (2.1.0)\n",
      "Requirement already satisfied: six>=1.9.0 in /opt/anaconda3/lib/python3.12/site-packages (from blessed>=1.20.0->awsebcli) (1.16.0)\n",
      "Requirement already satisfied: jmespath<2.0.0,>=0.7.1 in /opt/anaconda3/lib/python3.12/site-packages (from botocore<1.36.0,>=1.35.0->awsebcli) (1.0.1)\n",
      "Requirement already satisfied: MarkupSafe>=2.0 in /opt/anaconda3/lib/python3.12/site-packages (from jinja2>=2.11.1->sweetviz) (2.1.3)\n",
      "Requirement already satisfied: contourpy>=1.0.1 in /opt/anaconda3/lib/python3.12/site-packages (from matplotlib>=3.1.3->sweetviz) (1.2.0)\n",
      "Requirement already satisfied: cycler>=0.10 in /opt/anaconda3/lib/python3.12/site-packages (from matplotlib>=3.1.3->sweetviz) (0.11.0)\n",
      "Requirement already satisfied: fonttools>=4.22.0 in /opt/anaconda3/lib/python3.12/site-packages (from matplotlib>=3.1.3->sweetviz) (4.51.0)\n",
      "Requirement already satisfied: kiwisolver>=1.3.1 in /opt/anaconda3/lib/python3.12/site-packages (from matplotlib>=3.1.3->sweetviz) (1.4.4)\n",
      "Requirement already satisfied: pillow>=8 in /opt/anaconda3/lib/python3.12/site-packages (from matplotlib>=3.1.3->sweetviz) (10.4.0)\n",
      "Requirement already satisfied: pyparsing>=2.3.1 in /opt/anaconda3/lib/python3.12/site-packages (from matplotlib>=3.1.3->sweetviz) (3.0.9)\n",
      "Requirement already satisfied: charset-normalizer<4,>=2 in /opt/anaconda3/lib/python3.12/site-packages (from requests<3,>=2.31->awsebcli) (3.3.2)\n",
      "Requirement already satisfied: idna<4,>=2.5 in /opt/anaconda3/lib/python3.12/site-packages (from requests<3,>=2.31->awsebcli) (3.7)\n",
      "Requirement already satisfied: certifi>=2017.4.17 in /opt/anaconda3/lib/python3.12/site-packages (from requests<3,>=2.31->awsebcli) (2024.8.30)\n",
      "Requirement already satisfied: llvmlite<0.44,>=0.43.0dev0 in /opt/anaconda3/lib/python3.12/site-packages (from numba->shap) (0.43.0)\n"
     ]
    }
   ],
   "source": [
    "!pip install pandas sweetviz scikit-learn shap joblib flask awsebcli tpot"
   ]
  },
  {
   "cell_type": "code",
   "execution_count": 2,
   "id": "a593ca6b-b4f1-44f1-b673-c1f7f7db7c81",
   "metadata": {},
   "outputs": [
    {
     "data": {
      "application/vnd.jupyter.widget-view+json": {
       "model_id": "34a465eb795c43d4b34f061782682fc9",
       "version_major": 2,
       "version_minor": 0
      },
      "text/plain": [
       "                                             |      | [  0%]   00:00 -> (? left)"
      ]
     },
     "metadata": {},
     "output_type": "display_data"
    },
    {
     "name": "stdout",
     "output_type": "stream",
     "text": [
      "Report heart_disease_sweetviz_report.html was generated! NOTEBOOK/COLAB USERS: the web browser MAY not pop up, regardless, the report IS saved in your notebook/colab files.\n",
      "age         0\n",
      "sex         0\n",
      "cp          0\n",
      "trestbps    0\n",
      "chol        0\n",
      "fbs         0\n",
      "restecg     0\n",
      "thalach     0\n",
      "exang       0\n",
      "oldpeak     0\n",
      "slope       0\n",
      "ca          0\n",
      "thal        0\n",
      "target      0\n",
      "dtype: int64\n"
     ]
    }
   ],
   "source": [
    "import pandas as pd\n",
    "import sweetviz as sv\n",
    "from sklearn.preprocessing import StandardScaler\n",
    "from sklearn.model_selection import train_test_split\n",
    "\n",
    "# Load dataset from local file\n",
    "data = pd.read_csv('heart.csv')\n",
    "\n",
    "# AutoEDA with Sweetviz\n",
    "report = sv.analyze(data)\n",
    "report.show_html('heart_disease_sweetviz_report.html')\n",
    "\n",
    "# Data Cleaning (if necessary)\n",
    "# Check for missing values\n",
    "print(data.isnull().sum())\n",
    "\n",
    "# Feature Engineering\n",
    "categorical_features = ['cp', 'restecg', 'slope', 'ca', 'thal']\n",
    "data = pd.get_dummies(data, columns=categorical_features, drop_first=True)\n",
    "\n",
    "# Scaling\n",
    "numerical_features = ['age', 'trestbps', 'chol', 'thalach', 'oldpeak']\n",
    "scaler = StandardScaler()\n",
    "data[numerical_features] = scaler.fit_transform(data[numerical_features])\n",
    "\n",
    "# Split data\n",
    "X = data.drop('target', axis=1)\n",
    "y = data['target']\n",
    "X_train, X_test, y_train, y_test = train_test_split(X, y, test_size=0.2, random_state=42)"
   ]
  },
  {
   "cell_type": "code",
   "execution_count": 3,
   "id": "c8fa5956-7d94-461a-831e-d54126fd75ca",
   "metadata": {},
   "outputs": [
    {
     "data": {
      "application/vnd.jupyter.widget-view+json": {
       "model_id": "63af13c8911547819455b9160d443473",
       "version_major": 2,
       "version_minor": 0
      },
      "text/plain": [
       "Optimization Progress:   0%|          | 0/300 [00:00<?, ?pipeline/s]"
      ]
     },
     "metadata": {},
     "output_type": "display_data"
    },
    {
     "name": "stdout",
     "output_type": "stream",
     "text": [
      "\n",
      "Generation 1 - Current best internal CV score: 0.8346088435374149\n",
      "\n",
      "Generation 2 - Current best internal CV score: 0.842687074829932\n",
      "\n",
      "Generation 3 - Current best internal CV score: 0.842687074829932\n",
      "\n",
      "Generation 4 - Current best internal CV score: 0.842687074829932\n",
      "\n",
      "Generation 5 - Current best internal CV score: 0.8470238095238095\n",
      "\n",
      "Best pipeline: MLPClassifier(MinMaxScaler(input_matrix), alpha=0.01, learning_rate_init=0.001)\n",
      "              precision    recall  f1-score   support\n",
      "\n",
      "           0       0.86      0.86      0.86        29\n",
      "           1       0.88      0.88      0.88        32\n",
      "\n",
      "    accuracy                           0.87        61\n",
      "   macro avg       0.87      0.87      0.87        61\n",
      "weighted avg       0.87      0.87      0.87        61\n",
      "\n"
     ]
    }
   ],
   "source": [
    "from tpot import TPOTClassifier\n",
    "from sklearn.metrics import classification_report\n",
    "import joblib\n",
    "\n",
    "# Initialize TPOTClassifier\n",
    "tpot = TPOTClassifier(generations=5, population_size=50, verbosity=2, random_state=42, n_jobs=-1)\n",
    "\n",
    "# Fit TPOT\n",
    "tpot.fit(X_train, y_train)\n",
    "\n",
    "# Access the best pipeline\n",
    "exported_pipeline = tpot.fitted_pipeline_\n",
    "\n",
    "# Evaluate\n",
    "y_pred = exported_pipeline.predict(X_test)\n",
    "print(classification_report(y_test, y_pred))\n",
    "\n",
    "# Save the best pipeline\n",
    "joblib.dump(exported_pipeline, 'best_model.pkl')\n",
    "\n",
    "# Save X_train columns for reindexing in the Flask app\n",
    "import pickle\n",
    "with open('columns.pkl', 'wb') as f:\n",
    "    pickle.dump(X_train.columns.tolist(), f)"
   ]
  },
  {
   "cell_type": "code",
   "execution_count": 4,
   "id": "55f73f04-d9b2-47dc-ace9-170e6803682d",
   "metadata": {},
   "outputs": [
    {
     "name": "stderr",
     "output_type": "stream",
     "text": [
      "Using 242 background data samples could cause slower run times. Consider using shap.sample(data, K) or shap.kmeans(data, K) to summarize the background as K samples.\n"
     ]
    },
    {
     "data": {
      "application/vnd.jupyter.widget-view+json": {
       "model_id": "59db68b45c584cd4b8569f1de50cbb52",
       "version_major": 2,
       "version_minor": 0
      },
      "text/plain": [
       "  0%|          | 0/61 [00:00<?, ?it/s]"
      ]
     },
     "metadata": {},
     "output_type": "display_data"
    },
    {
     "data": {
      "image/png": "[encoded data removed]",
      "text/plain": [
       "<Figure size 1150x660 with 2 Axes>"
      ]
     },
     "metadata": {},
     "output_type": "display_data"
    }
   ],
   "source": [
    "# Identify the classifier in the pipeline\n",
    "classifier_step_name = list(exported_pipeline.named_steps.keys())[-1]\n",
    "classifier = exported_pipeline.named_steps[classifier_step_name]\n",
    "\n",
    "# Initialize SHAP explainer\n",
    "import shap\n",
    "\n",
    "if hasattr(classifier, 'predict_proba'):\n",
    "    if 'tree' in classifier.__class__.__name__.lower():\n",
    "        explainer = shap.TreeExplainer(classifier)\n",
    "    else:\n",
    "        explainer = shap.KernelExplainer(classifier.predict_proba, X_train)\n",
    "else:\n",
    "    explainer = shap.KernelExplainer(classifier.predict, X_train)\n",
    "\n",
    "# Calculate SHAP values\n",
    "shap_values = explainer.shap_values(X_test)\n",
    "\n",
    "# Visualize SHAP values\n",
    "shap.summary_plot(shap_values, X_test)"
   ]
  },
  {
   "cell_type": "code",
   "execution_count": null,
   "id": "43005077-681e-401a-9206-50db3556187a",
   "metadata": {},
   "outputs": [],
   "source": []
  }
 ],
 "metadata": {
  "kernelspec": {
   "display_name": "Python 3 (ipykernel)",
   "language": "python",
   "name": "python3"
  },
  "language_info": {
   "codemirror_mode": {
    "name": "ipython",
    "version": 3
   },
   "file_extension": ".py",
   "mimetype": "text/x-python",
   "name": "python",
   "nbconvert_exporter": "python",
   "pygments_lexer": "ipython3",
   "version": "3.12.2"
  }
 },
 "nbformat": 4,
 "nbformat_minor": 5
}
